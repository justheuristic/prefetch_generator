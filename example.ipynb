{
 "cells": [
  {
   "cell_type": "markdown",
   "metadata": {},
   "source": [
    "# A small demo of background generator\n",
    "\n",
    "[should work in both python2 and python3]\n"
   ]
  },
  {
   "cell_type": "code",
   "execution_count": 1,
   "metadata": {},
   "outputs": [
    {
     "name": "stdout",
     "output_type": "stream",
     "text": [
      "\n",
      "Based on http://stackoverflow.com/questions/7323664/python-generator-pre-fetch\n",
      "\n",
      "This is a single-function package that makes it possible to transform any generator into a `BackgroundGenerator` which computes any number of elements from the generator ahead, in a background thread.\n",
      "\n",
      "It is quite lightweight, but not entirely weightless.\n",
      "\n",
      "The `BackgroundGenerator` is most useful when you have a GIL releasing task which might take a long time to complete (e.g. Disk I/O, Web Requests, pure C functions, GPU processing, ...), and another task which takes a similar amount of time, but is dependent on the results of the first task (e.g. Computationally intensive processing of data loaded from disk).\n",
      "\n",
      "Normally these two tasks will constantly wait for one another to finish. If you make one of these tasks a `BackgroundGenerator` (see examples below), they will work in parallel, potentially saving up to 50% of execution time (definitely less in practice).\n",
      "\n",
      "We personally use the `BackgroundGenerator` when iterating over minibatches of data for deep learning with tensorflow and theano ( lasagne, blocks, raw, etc.).\n",
      "\n",
      "Quick usage example (ipython notebook) - https://github.com/justheuristic/prefetch_generator/blob/master/example.ipynb\n",
      "\n",
      "This package contains two objects:\n",
      " - The Class     `BackgroundGenerator(generator [,max_prefetch=1])`\n",
      " - The decorator `@prefetch([max_prefetch=1])`\n",
      "\n",
      "the usage is either\n",
      "\n",
      "#for item in BackgroundGenerator(my_generator):\n",
      "#    do_stuff(item)\n",
      "\n",
      "or\n",
      "\n",
      "#@prefetch()\n",
      "#def my_generator(some_param):\n",
      "#    while True:\n",
      "#        X = read_heavy_file()\n",
      "#        y = wget_from_cornhub()\n",
      "#        do_pretty_much_anything(some_param)\n",
      "#        yield X, y\n",
      "\n",
      "\n",
      "More details are written in the `BackgroundGenerator` doc:\n",
      "See `help(BackgroundGenerator)`\n",
      "\n"
     ]
    }
   ],
   "source": [
    "from __future__ import print_function\n",
    "from prefetch_generator import BackgroundGenerator, background,__doc__\n",
    "\n",
    "print(__doc__)"
   ]
  },
  {
   "cell_type": "code",
   "execution_count": 2,
   "metadata": {},
   "outputs": [],
   "source": [
    "###your super-mega data iterator\n",
    "import numpy as np\n",
    "import time\n",
    "\n",
    "def iterate_minibatches(n_batches, batch_size=10):\n",
    "    for b_i in range(n_batches):\n",
    "        time.sleep(0.1) #here it could read file or SQL-get or do some math\n",
    "        X = np.random.normal(size=[batch_size,20])\n",
    "        y = np.random.randint(0,2,size=batch_size)\n",
    "        yield X,y"
   ]
  },
  {
   "cell_type": "markdown",
   "metadata": {},
   "source": [
    "### regular mode"
   ]
  },
  {
   "cell_type": "code",
   "execution_count": 3,
   "metadata": {},
   "outputs": [
    {
     "name": "stdout",
     "output_type": "stream",
     "text": [
      "/------------------------------------------ Progress Bar ------------------------------------------\\\n",
      "! ! ! ! ! ! ! ! ! ! ! ! ! ! ! ! ! ! ! ! ! ! ! ! ! ! ! ! ! ! ! ! ! ! ! ! ! ! ! ! ! ! ! ! ! ! ! ! ! ! \n",
      "CPU times: user 100 ms, sys: 20 ms, total: 120 ms\n",
      "Wall time: 10.1 s\n"
     ]
    }
   ],
   "source": [
    "%%time\n",
    "\n",
    "#tqdm made in china\n",
    "print('/'+'-'*42+' Progress Bar ' + '-'*42 + '\\\\')\n",
    "\n",
    "for b_x,b_y in iterate_minibatches(50):\n",
    "    #training\n",
    "    time.sleep(0.1) #here it could use GPU for example\n",
    "    print('!',end=\" \")\n",
    "    \n",
    "print()"
   ]
  },
  {
   "cell_type": "markdown",
   "metadata": {},
   "source": [
    "### with prefetch"
   ]
  },
  {
   "cell_type": "code",
   "execution_count": 4,
   "metadata": {},
   "outputs": [
    {
     "name": "stdout",
     "output_type": "stream",
     "text": [
      "/------------------------------------------ Progress Bar ------------------------------------------\\\n",
      "! ! ! ! ! ! ! ! ! ! ! ! ! ! ! ! ! ! ! ! ! ! ! ! ! ! ! ! ! ! ! ! ! ! ! ! ! ! ! ! ! ! ! ! ! ! ! ! ! ! \n",
      "CPU times: user 68 ms, sys: 16 ms, total: 84 ms\n",
      "Wall time: 5.14 s\n"
     ]
    }
   ],
   "source": [
    "%%time\n",
    "\n",
    "print('/'+'-'*42+' Progress Bar ' + '-'*42 + '\\\\')\n",
    "\n",
    "for b_x,b_y in BackgroundGenerator(iterate_minibatches(50)):\n",
    "    #training\n",
    "    time.sleep(0.1) #here it could use some GPU\n",
    "    print('!',end=\" \")\n",
    "print()"
   ]
  },
  {
   "cell_type": "markdown",
   "metadata": {},
   "source": [
    "### Same with decorator"
   ]
  },
  {
   "cell_type": "code",
   "execution_count": 5,
   "metadata": {
    "collapsed": true
   },
   "outputs": [],
   "source": [
    "###your super-mega data iterator again, now with background decorator\n",
    "import numpy as np\n",
    "import time\n",
    "\n",
    "@background(max_prefetch=3)\n",
    "def bg_iterate_minibatches(n_batches, batch_size=10):\n",
    "    for b_i in range(n_batches):\n",
    "        time.sleep(0.1) #here it could read file or SQL-get or do some math\n",
    "        X = np.random.normal(size=[batch_size,20])\n",
    "        y = np.random.randint(0,2,size=batch_size)\n",
    "        yield X,y\n"
   ]
  },
  {
   "cell_type": "code",
   "execution_count": 6,
   "metadata": {},
   "outputs": [
    {
     "name": "stdout",
     "output_type": "stream",
     "text": [
      "/------------------------------------------ Progress Bar ------------------------------------------\\\n",
      "! ! ! ! ! ! ! ! ! ! ! ! ! ! ! ! ! ! ! ! ! ! ! ! ! ! ! ! ! ! ! ! ! ! ! ! ! ! ! ! ! ! ! ! ! ! ! ! ! ! \n",
      "CPU times: user 56 ms, sys: 20 ms, total: 76 ms\n",
      "Wall time: 5.14 s\n"
     ]
    }
   ],
   "source": [
    "%%time\n",
    "\n",
    "print('/'+'-'*42+' Progress Bar ' + '-'*42 + '\\\\')\n",
    "\n",
    "for b_x,b_y in bg_iterate_minibatches(50):\n",
    "    #training\n",
    "    time.sleep(0.1)#you guessed it\n",
    "    print('!',end=\" \")\n",
    "print()"
   ]
  },
  {
   "cell_type": "code",
   "execution_count": null,
   "metadata": {
    "collapsed": true
   },
   "outputs": [],
   "source": []
  }
 ],
 "metadata": {
  "kernelspec": {
   "display_name": "Python 3 (ipykernel)",
   "language": "python",
   "name": "python3"
  },
  "language_info": {
   "codemirror_mode": {
    "name": "ipython",
    "version": 3
   },
   "file_extension": ".py",
   "mimetype": "text/x-python",
   "name": "python",
   "nbconvert_exporter": "python",
   "pygments_lexer": "ipython3",
   "version": "3.9.7"
  }
 },
 "nbformat": 4,
 "nbformat_minor": 1
}
